{
  "nbformat": 4,
  "nbformat_minor": 0,
  "metadata": {
    "colab": {
      "provenance": []
    },
    "kernelspec": {
      "name": "python3",
      "display_name": "Python 3"
    },
    "language_info": {
      "name": "python"
    }
  },
  "cells": [
    {
      "cell_type": "code",
      "execution_count": null,
      "metadata": {
        "id": "xgsmudZCxb9D"
      },
      "outputs": [],
      "source": []
    },
    {
      "cell_type": "markdown",
      "source": [
        "Q1. What is a set in Python?"
      ],
      "metadata": {
        "id": "2d3q0jSKxcte"
      }
    },
    {
      "cell_type": "markdown",
      "source": [
        "In Python, a set is an unordered collection of unique elements.Sets are defined using curly braces enclosing a comma-separated list of elements, or by using the set() constructor."
      ],
      "metadata": {
        "id": "ODy-Teo0xicY"
      }
    },
    {
      "cell_type": "markdown",
      "source": [
        "Q2.How do you create a set in Python?\n"
      ],
      "metadata": {
        "id": "zThCNv3Hxw5F"
      }
    },
    {
      "cell_type": "code",
      "source": [
        "\n",
        "In Python, you can create a set using curly braces  or by using the set() constructor"
      ],
      "metadata": {
        "id": "B25bFQAvx0vL"
      },
      "execution_count": null,
      "outputs": []
    },
    {
      "cell_type": "markdown",
      "source": [
        "Q3. How do you add elements to a set in Python?\n"
      ],
      "metadata": {
        "id": "B2bhIAkcx75c"
      }
    },
    {
      "cell_type": "code",
      "source": [
        "\n",
        "In Python, you can add elements to a set using the add() method or the update() method."
      ],
      "metadata": {
        "id": "tuzqIpwyx_ge"
      },
      "execution_count": null,
      "outputs": []
    },
    {
      "cell_type": "markdown",
      "source": [
        "Q4. How do you remove elements from a set in Python?"
      ],
      "metadata": {
        "id": "zkD213b9yEw9"
      }
    },
    {
      "cell_type": "markdown",
      "source": [
        "Using the remove() method\n",
        "Using the discard() method\n",
        "Using the pop() method\n",
        "Using the clear() method to remove all elements from the set"
      ],
      "metadata": {
        "id": "xON_S3IIyJho"
      }
    },
    {
      "cell_type": "markdown",
      "source": [
        "Q5. How do you get the length of a set in Python?"
      ],
      "metadata": {
        "id": "WJZibwTcyZam"
      }
    },
    {
      "cell_type": "markdown",
      "source": [
        "\n",
        "In Python, we can get the length (number of elements) of a set using the len() function"
      ],
      "metadata": {
        "id": "KxhfOe0vyeAX"
      }
    },
    {
      "cell_type": "code",
      "source": [],
      "metadata": {
        "id": "1Hrf2gwmyjSA"
      },
      "execution_count": null,
      "outputs": []
    }
  ]
}